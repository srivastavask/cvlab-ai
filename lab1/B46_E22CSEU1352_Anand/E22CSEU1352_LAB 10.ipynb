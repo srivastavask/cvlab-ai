{
  "nbformat": 4,
  "nbformat_minor": 0,
  "metadata": {
    "colab": {
      "provenance": []
    },
    "kernelspec": {
      "name": "python3",
      "display_name": "Python 3"
    },
    "language_info": {
      "name": "python"
    }
  },
  "cells": [
    {
      "cell_type": "code",
      "execution_count": null,
      "metadata": {
        "id": "iquUMshq4VrM"
      },
      "outputs": [],
      "source": [
        "import cv2\n",
        "import numpy as np\n",
        "import matplotlib.pyplot as plt\n",
        "\n",
        "# Load the image\n",
        "image = cv2.imread('/content/noisy image.jpg')\n",
        "gray = cv2.cvtColor(image, cv2.COLOR_BGR2GRAY)\n",
        "\n",
        "# Denoising using Non-Local Means Denoising\n",
        "denoised = cv2.fastNlMeansDenoisingColored(image, None, 10, 10, 7, 21)\n",
        "\n",
        "# Display the images\n",
        "plt.subplot(1, 2, 1)\n",
        "plt.title('Noisy Image')\n",
        "plt.imshow(cv2.cvtColor(image, cv2.COLOR_BGR2RGB))\n",
        "plt.subplot(1, 2, 2)\n",
        "plt.title('Denoised Image')\n",
        "plt.imshow(cv2.cvtColor(denoised, cv2.COLOR_BGR2RGB))\n",
        "plt.show()"
      ]
    },
    {
      "cell_type": "code",
      "source": [
        "from google.colab.patches import cv2_imshow\n",
        "\n",
        "# Load images (ensure overlap and same scene)\n",
        "imgs = [cv2.imread('/content/l1.jpg'), cv2.imread('/content/l2.jpg')]\n",
        "\n",
        "stitcher = cv2.Stitcher_create()\n",
        "(status, stitched) = stitcher.stitch(imgs)\n",
        "\n",
        "if status == cv2.Stitcher_OK:\n",
        "    # cv2.imshow('Panorama', stitched)\n",
        "    cv2_imshow(stitched)\n",
        "\n",
        "    # cv2.waitKey(0)\n",
        "    # cv2.destroyAllWindows()\n",
        "else:\n",
        "    print(\"Error during stitching:\", status)"
      ],
      "metadata": {
        "id": "-vnLOxnP4lm5"
      },
      "execution_count": null,
      "outputs": []
    },
    {
      "cell_type": "code",
      "source": [
        "\n",
        "import cv2\n",
        "import numpy as np\n",
        "\n",
        "# Load two views\n",
        "img1 = cv2.imread('/content/l1.jpg', 0)\n",
        "img2 = cv2.imread('/content/l2.jpg', 0)\n",
        "\n",
        "# Feature detection and matching\n",
        "sift = cv2.SIFT_create()\n",
        "kp1, des1 = sift.detectAndCompute(img1, None)\n",
        "kp2, des2 = sift.detectAndCompute(img2, None)\n",
        "bf = cv2.BFMatcher()\n",
        "matches = bf.knnMatch(des1, des2, k=2)\n",
        "\n",
        "# Ratio test\n",
        "good = []\n",
        "for m,n in matches:\n",
        "    if m.distance < 0.75 * n.distance:\n",
        "        good.append(m)\n",
        "\n",
        "# Extract matched points\n",
        "pts1 = np.float32([kp1[m.queryIdx].pt for m in good])\n",
        "pts2 = np.float32([kp2[m.trainIdx].pt for m in good])\n",
        "\n",
        "# Compute fundamental matrix\n",
        "F, mask = cv2.findFundamentalMat(pts1, pts2, cv2.FM_LMEDS)\n",
        "print(\"Fundamental Matrix:\\n\", F)"
      ],
      "metadata": {
        "id": "XCU9jYHz4psO"
      },
      "execution_count": null,
      "outputs": []
    },
    {
      "cell_type": "code",
      "source": [
        "\n",
        "import cv2\n",
        "from google.colab.patches import cv2_imshow\n",
        "\n",
        "video_path = '/content/test_07-03_mp4-5752729-uhd_3840_2160_30fps.mp4 (240p).mp4'\n",
        "cap = cv2.VideoCapture(video_path)\n",
        "\n",
        "frame_count = 0\n",
        "max_frames = 30\n",
        "\n",
        "while cap.isOpened() and frame_count < max_frames:\n",
        "    ret, frame = cap.read()\n",
        "    if not ret:\n",
        "        break\n",
        "\n",
        "    print(f\"Frame {frame_count}\")\n",
        "    cv2_imshow(frame)\n",
        "    frame_count += 1\n",
        "\n",
        "cap.release()\n"
      ],
      "metadata": {
        "id": "AMLvlKYc4r43"
      },
      "execution_count": null,
      "outputs": []
    }
  ]
}